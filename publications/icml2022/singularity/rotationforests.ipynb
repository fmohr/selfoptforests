{
 "cells": [
  {
   "cell_type": "code",
   "execution_count": 1,
   "id": "b6885f52",
   "metadata": {},
   "outputs": [],
   "source": [
    "from evalutils import *\n",
    "from rotationforest import DecisionTreeClassifier\n",
    "import sklearn\n",
    "import matplotlib.pyplot as plt"
   ]
  },
  {
   "cell_type": "code",
   "execution_count": 132,
   "id": "d1c5c040",
   "metadata": {},
   "outputs": [
    {
     "name": "stdout",
     "output_type": "stream",
     "text": [
      "Read in data frame. Size is 5404 x 6.\n"
     ]
    },
    {
     "data": {
      "text/plain": [
       "array(['1', '2'], dtype='<U1')"
      ]
     },
     "execution_count": 132,
     "metadata": {},
     "output_type": "execute_result"
    }
   ],
   "source": [
    "#X, y = get_dataset(1494)\n",
    "X, y = get_dataset(1489)\n",
    "#X = X[:1000]\n",
    "#y = y[:1000]\n",
    "X_train, X_test, y_train, y_test = sklearn.model_selection.train_test_split(X, y)\n",
    "np.unique(y)"
   ]
  },
  {
   "cell_type": "code",
   "execution_count": 164,
   "id": "2b3dc25a",
   "metadata": {},
   "outputs": [],
   "source": [
    "import itertools as it\n",
    "import numpy as np\n",
    "import sklearn.datasets\n",
    "import sklearn.decomposition\n",
    "from tqdm import tqdm\n",
    "import time\n",
    "\n",
    "def entropy(p):\n",
    "    return -sum([q * np.log(q) / np.log(2) if q > 0 else 0 for q in p])\n",
    "\n",
    "class Node:\n",
    "    def __init__(self):\n",
    "        self.split_point = None\n",
    "        \n",
    "    def get_depth(self):\n",
    "        if self.split_point is None:\n",
    "            return 0\n",
    "        return 1 + max(self.lc.get_depth(), self.rc.get_depth())\n",
    "    \n",
    "    def get_number_of_nodes(self):\n",
    "        if self.split_point is None:\n",
    "            return 1\n",
    "        return 1 + self.lc.get_number_of_nodes() + self.rc.get_number_of_nodes()\n",
    "\n",
    "class DecisionTreeClassifier:\n",
    "    \n",
    "    def __init__(self, eta = 1, pi = 0.99, l = np.inf, p = None, rotation = True, rs = None):\n",
    "        self.eta = eta\n",
    "        self.pi = pi\n",
    "        self.l = l\n",
    "        self.p = p # the maximum number of (random) attributes to consider in each split. Specify None to use all\n",
    "        self.rotation = rotation\n",
    "        self.pca_classes = 2\n",
    "        self.max_class_combos = 1\n",
    "        self.min_instances_for_rotation = 5\n",
    "        self.min_score_to_not_rotate = 0.2\n",
    "        self.rs = rs if rs is not None else np.random.RandomState()\n",
    "    \n",
    "    def train(self, X, y):\n",
    "        self.num_atts = X.shape[1]\n",
    "        self.labels = list(np.unique(y))\n",
    "        \n",
    "        # scale data\n",
    "        if self.rotation:\n",
    "            scaler = sklearn.preprocessing.StandardScaler()\n",
    "            X_scaled = scaler.fit_transform(X)\n",
    "            self.scaler = scaler\n",
    "        else:\n",
    "            self.scaler = None\n",
    "            X_scaled = X\n",
    "        \n",
    "        self.model = self.train_tree(X_scaled, y)\n",
    "    \n",
    "    def train_tree(self, X, y):\n",
    "        \n",
    "        # preliminaries (lines 1-3)\n",
    "        n = X.shape[0]\n",
    "        n_unique = len({tuple(row) for row in X})\n",
    "        ni = [np.count_nonzero(y == l) for l in self.labels]\n",
    "        majority_label = np.argmax(ni)\n",
    "        label_order = np.argsort(ni)\n",
    "        purity = max(ni) / n\n",
    "        \n",
    "        # is this a leaf node?\n",
    "        if n_unique <= self.eta or purity >= self.pi:\n",
    "            label = self.labels[majority_label]\n",
    "            n = Node()\n",
    "            n.label = label\n",
    "            return n\n",
    "        \n",
    "        # initialize decision variables\n",
    "        split_point, best_score = None, -np.inf\n",
    "        best_is_numeric_split = True\n",
    "        X_decision = None\n",
    "        \n",
    "        # compute dataset modifications that may be considered for splits\n",
    "        time_ds_start = time.time()\n",
    "        datasets = [(X, None, \"None\")]\n",
    "        if self.rotation and X.shape[0] > self.min_instances_for_rotation:\n",
    "            \n",
    "            # one PCA to the full data\n",
    "            #pca = sklearn.decomposition.PCA()\n",
    "            #datasets.append((pca.fit_transform(X_scaled), pca))\n",
    "            \n",
    "            # one PCA to the data reduced to each class\n",
    "            for k in range(1, self.max_class_combos + 1):\n",
    "                for labelset in it.combinations([self.labels[l] for l in label_order[-self.pca_classes:]], k):#label_order:#[-self.pca_classes:]:\n",
    "                    pca = sklearn.decomposition.PCA()\n",
    "                    instances_for_label = X[[l in labelset for l in y]]\n",
    "                    if len(instances_for_label) >= self.min_instances_for_rotation and np.var(instances_for_label) > 0:\n",
    "                        try:\n",
    "                            pca.fit(instances_for_label)\n",
    "                            X_transformed = pca.transform(X)\n",
    "                            if X_transformed.shape == X.shape:\n",
    "                                datasets.append((X_transformed, pca, f\"PCA over labelset {labelset}\"))\n",
    "                        except LinAlgError:\n",
    "                            print(\"observed error, ignoring result of PCA.\")\n",
    "        time_ds_end = time.time()\n",
    "        #print(f\"Time to compute datasets: {time_ds_end - time_ds_start}\")\n",
    "        \n",
    "        # get the attributes over which the split might be defined\n",
    "        indices_of_considered_attributes = list(range(X.shape[1]))\n",
    "        if self.p is not None:\n",
    "            num_new_features = min(len(indices_of_considered_attributes), int(self.p))\n",
    "            indices_of_considered_attributes = sorted(self.rs.choice(indices_of_considered_attributes, num_new_features, replace=False))\n",
    "        \n",
    "        #print(f\"Now considering {len(datasets)} datasets\")\n",
    "        att_cnt = 0\n",
    "        for ds_index, (X_local, transformation, trans_name) in enumerate(datasets):\n",
    "            \n",
    "            # get the split decision\n",
    "            for att_index in indices_of_considered_attributes:\n",
    "                att_cnt += 1\n",
    "                col = X_local[:, att_index]\n",
    "                numeric_split = col.dtype in [float, int]\n",
    "                if numeric_split:\n",
    "                    v, score = self.evaluate_numeric_attribute(col, y)\n",
    "                else:\n",
    "                    v, score = self.evaluate_categorical_attribute(col, y)\n",
    "                if v is not None and score > best_score:\n",
    "                    split_point, best_score = (att_index, v), score\n",
    "                    best_is_numeric_split = numeric_split\n",
    "                    X_decision = X_local\n",
    "                    transformation_for_decision = transformation\n",
    "            \n",
    "            # break if the standard split was already good enough\n",
    "            if ds_index == 0 and best_score >= - self.min_score_to_not_rotate:\n",
    "                break\n",
    "        \n",
    "        #print(f\"Split point computed after {time.time() - time_ds_end}s. Considered {att_cnt} attributes.\")\n",
    "        \n",
    "        # we cannot distinguish points here anymore\n",
    "        if split_point is None:\n",
    "            label = self.labels[np.argmax(ni)]\n",
    "            n = Node()\n",
    "            n.label = label\n",
    "            return n\n",
    "        \n",
    "        # create node with two children\n",
    "        mask = X_decision[:,split_point[0]] <= split_point[1] if best_is_numeric_split else X_decision[:,split_point[0]] == split_point[1]\n",
    "        node = Node()\n",
    "        node.split_point = split_point\n",
    "        if transformation_for_decision is None:\n",
    "            node.transformation_vector = None \n",
    "            node.offset = None\n",
    "        else:\n",
    "            #projection_matrix = np.matmul(transformation_for_decision.components_, transformation_for_decision.components_.T)\n",
    "            node.transformation_vector = transformation_for_decision.components_[split_point[0]]\n",
    "            node.transformer = transformation_for_decision\n",
    "        node.is_numeric = best_is_numeric_split\n",
    "        node.lc = self.train_tree(X[mask], y[mask])\n",
    "        node.rc = self.train_tree(X[~mask], y[~mask])\n",
    "        return node\n",
    "    \n",
    "    def evaluate_numeric_attribute(self, col, y):\n",
    "        \n",
    "        indices = np.argsort(col)\n",
    "        M = []\n",
    "        ni = np.zeros(len(self.labels))\n",
    "        \n",
    "        # idfentify all possible split points\n",
    "        Nvi = {}\n",
    "        for k, j in enumerate(indices):\n",
    "            xj = col[j]\n",
    "            yj = y[j]\n",
    "            ni[self.labels.index(yj)] += 1\n",
    "            \n",
    "            if k < len(col) - 1:\n",
    "                xjp1 = col[indices[k+1]]\n",
    "                if xj != xjp1:\n",
    "                    v = (xj + xjp1) / 2\n",
    "                    M.append(v)\n",
    "                    Nvi[v] = ni.copy()\n",
    "        \n",
    "        # if there are no split points, return -np.inf\n",
    "        if not M:\n",
    "            return None, None\n",
    "        \n",
    "        # now evaluate different candidates\n",
    "        best_v, best_score = None, -np.inf\n",
    "        for v in M:\n",
    "            nY = sum(Nvi[v])\n",
    "            n = len(col)\n",
    "            nN = n - nY\n",
    "            wY = nY / n\n",
    "            wN = nN / n\n",
    "            pY = np.array(Nvi[v]) / sum(Nvi[v])\n",
    "            pN = (ni - np.array(Nvi[v])) / sum(ni - np.array(Nvi[v]))\n",
    "            score = self.gain(wY, wN, pY, pN)\n",
    "            if score > best_score:\n",
    "                best_v, best_score = v, score\n",
    "        return best_v, best_score\n",
    "    \n",
    "\n",
    "    def evaluate_categorical_attribute(self, col, y):\n",
    "        \n",
    "        # compute nvi counters\n",
    "        dom = list(np.unique(col))\n",
    "        if len(dom) == 1:\n",
    "            return dom[0], -np.inf\n",
    "        Nvi = np.zeros((len(dom), len(self.labels)))\n",
    "        for i, v in enumerate(dom):\n",
    "            for j, label in enumerate(self.labels):\n",
    "                Nvi[i][j] = np.count_nonzero((col == v) & (y == label))\n",
    "        \n",
    "        # compute gains\n",
    "        best_v, best_score = None, -np.log(len(self.labels)) / np.log(2)\n",
    "        for v_index, v in enumerate(dom):\n",
    "            sums_Y = Nvi[v_index]\n",
    "            sums_N = np.sum(Nvi[[i for i in range(len(dom)) if i != v_index]], axis=0)\n",
    "            nY = sum(sums_Y)\n",
    "            nN = sum(sums_N)\n",
    "            pY = sums_Y / nY if nY > 0 else np.zeros(len(self.labels))\n",
    "            pN = sums_N / nN if nN > 0 else np.zeros(len(self.labels))            \n",
    "            score = self.gain(nY / len(col), nN / len(col), pY, pN)\n",
    "            if score > best_score:\n",
    "                best_v = v\n",
    "                best_score = score\n",
    "        return best_v, best_score\n",
    "    \n",
    "    def gain(self, wY, wN, pY, pN):\n",
    "        return -(wY * entropy(pY) + wN * entropy(pN))\n",
    "    \n",
    "    def pass_instance_from_node_to_leaf(self, x, node):\n",
    "        if node.split_point is None:\n",
    "            return node\n",
    "        att, v = node.split_point\n",
    "        if node.is_numeric:\n",
    "            val1 = x[att] if node.transformation_vector is None else node.transformer.transform([x])[0][att] #np.dot(node.transformation_vector, x)            \n",
    "            #val2 = x[att] if node.transformation_vector is None else np.dot(node.transformation_vector, x)\n",
    "            #print(val1, val2)\n",
    "            val = val1\n",
    "            chosen_child = node.lc if val <= v else node.rc\n",
    "        else:\n",
    "            chosen_child = node.lc if x[att] == v else node.rc\n",
    "        return self.pass_instance_from_node_to_leaf(x, chosen_child)\n",
    "    \n",
    "    def predict(self, X):\n",
    "        y = []\n",
    "        X_scaled = X if self.scaler is None else self.scaler.transform(X)\n",
    "        for x in X_scaled:\n",
    "            y.append(self.pass_instance_from_node_to_leaf(x, self.model).label)\n",
    "        return y\n",
    "    \n",
    "    def get_depth(self):\n",
    "        return self.model.get_depth()\n",
    "    \n",
    "    def get_number_of_nodes(self):\n",
    "        return self.model.get_number_of_nodes()"
   ]
  },
  {
   "cell_type": "code",
   "execution_count": 165,
   "id": "64af7ac2",
   "metadata": {
    "scrolled": true
   },
   "outputs": [
    {
     "name": "stderr",
     "output_type": "stream",
     "text": [
      "100%|██████████| 20/20 [01:38<00:00,  4.95s/it]\n",
      "100%|██████████| 20/20 [00:34<00:00,  1.75s/it]"
     ]
    },
    {
     "name": "stdout",
     "output_type": "stream",
     "text": [
      "CPU times: user 2min 13s, sys: 114 ms, total: 2min 13s\n",
      "Wall time: 2min 13s\n"
     ]
    },
    {
     "name": "stderr",
     "output_type": "stream",
     "text": [
      "\n"
     ]
    }
   ],
   "source": [
    "%%time\n",
    "o = []\n",
    "for rotation in [True, False]:\n",
    "    l = []\n",
    "    for i in tqdm(range(20)):\n",
    "        dt = DecisionTreeClassifier(eta=3, pi=0.95, p=np.sqrt(X.shape[1]), rotation=rotation)\n",
    "        dt.train(X_train, y_train)\n",
    "        l.append(np.count_nonzero(dt.predict(X_test) == y_test) / len(y_test))\n",
    "    o.append(l)"
   ]
  },
  {
   "cell_type": "code",
   "execution_count": 166,
   "id": "141ae52b",
   "metadata": {},
   "outputs": [
    {
     "data": {
      "image/png": "[encoded data removed]",
      "text/plain": [
       "<Figure size 432x288 with 1 Axes>"
      ]
     },
     "metadata": {
      "needs_background": "light"
     },
     "output_type": "display_data"
    }
   ],
   "source": [
    "plt.boxplot(o)\n",
    "plt.show()"
   ]
  },
  {
   "cell_type": "code",
   "execution_count": 167,
   "id": "13d0014c",
   "metadata": {},
   "outputs": [
    {
     "name": "stdout",
     "output_type": "stream",
     "text": [
      "22\n",
      "743\n"
     ]
    }
   ],
   "source": [
    "print(dt.get_depth())\n",
    "print(dt.get_number_of_nodes())"
   ]
  },
  {
   "cell_type": "code",
   "execution_count": null,
   "id": "186f86da",
   "metadata": {},
   "outputs": [],
   "source": []
  },
  {
   "cell_type": "code",
   "execution_count": null,
   "id": "2830dec5",
   "metadata": {},
   "outputs": [],
   "source": []
  },
  {
   "cell_type": "code",
   "execution_count": 5,
   "id": "71415c9c",
   "metadata": {
    "scrolled": true
   },
   "outputs": [
    {
     "ename": "NameError",
     "evalue": "name 'RandomForest' is not defined",
     "output_type": "error",
     "traceback": [
      "\u001b[0;31m---------------------------------------------------------------------------\u001b[0m",
      "\u001b[0;31mNameError\u001b[0m                                 Traceback (most recent call last)",
      "\u001b[0;32m<ipython-input-5-658f19a8c6cb>\u001b[0m in \u001b[0;36m<module>\u001b[0;34m\u001b[0m\n\u001b[0;32m----> 1\u001b[0;31m \u001b[0mrf_rot\u001b[0m \u001b[0;34m=\u001b[0m \u001b[0mRandomForest\u001b[0m\u001b[0;34m(\u001b[0m\u001b[0mn_trees\u001b[0m \u001b[0;34m=\u001b[0m \u001b[0;36m100\u001b[0m\u001b[0;34m,\u001b[0m \u001b[0mrotation\u001b[0m \u001b[0;34m=\u001b[0m \u001b[0;32mTrue\u001b[0m\u001b[0;34m)\u001b[0m\u001b[0;34m\u001b[0m\u001b[0;34m\u001b[0m\u001b[0m\n\u001b[0m\u001b[1;32m      2\u001b[0m \u001b[0mrf_rot\u001b[0m\u001b[0;34m.\u001b[0m\u001b[0mtrain\u001b[0m\u001b[0;34m(\u001b[0m\u001b[0mX_train\u001b[0m\u001b[0;34m,\u001b[0m \u001b[0my_train\u001b[0m\u001b[0;34m)\u001b[0m\u001b[0;34m\u001b[0m\u001b[0;34m\u001b[0m\u001b[0m\n\u001b[1;32m      3\u001b[0m \u001b[0mdepths_rotation\u001b[0m \u001b[0;34m=\u001b[0m \u001b[0mrf_rot\u001b[0m\u001b[0;34m.\u001b[0m\u001b[0mget_depths\u001b[0m\u001b[0;34m(\u001b[0m\u001b[0;34m)\u001b[0m\u001b[0;34m\u001b[0m\u001b[0;34m\u001b[0m\u001b[0m\n\u001b[1;32m      4\u001b[0m \u001b[0mnumnodes_rotation\u001b[0m \u001b[0;34m=\u001b[0m \u001b[0mrf_rot\u001b[0m\u001b[0;34m.\u001b[0m\u001b[0mget_numbers_of_nodes\u001b[0m\u001b[0;34m(\u001b[0m\u001b[0;34m)\u001b[0m\u001b[0;34m\u001b[0m\u001b[0;34m\u001b[0m\u001b[0m\n",
      "\u001b[0;31mNameError\u001b[0m: name 'RandomForest' is not defined"
     ]
    }
   ],
   "source": [
    "rf_rot = RandomForest(n_trees = 100, rotation = True)\n",
    "rf_rot.train(X_train, y_train)\n",
    "depths_rotation = rf_rot.get_depths()\n",
    "numnodes_rotation = rf_rot.get_numbers_of_nodes()"
   ]
  },
  {
   "cell_type": "code",
   "execution_count": null,
   "id": "d353a2eb",
   "metadata": {},
   "outputs": [],
   "source": [
    "rf_normal = RandomForest(n_trees = 100, rotation = False)\n",
    "rf_normal.train(X_train, y_train)\n",
    "depths_normal = rf_normal.get_depths()\n",
    "numnodes_normal = rf_normal.get_numbers_of_nodes()"
   ]
  },
  {
   "cell_type": "code",
   "execution_count": null,
   "id": "07728daf",
   "metadata": {},
   "outputs": [],
   "source": [
    "fig, ax = plt.subplots(1, 2)#, figsize=(20, 5))\n",
    "ax[0].boxplot([depths_rotation, depths_normal])\n",
    "#ax[1].scatter(depths_rotation, depths_normal)\n",
    "#limit = max(max(depths_rotation), max(depths_normal))\n",
    "#ax[1].plot([0,limit], [0, limit])\n",
    "ax[1].boxplot([numnodes_rotation, numnodes_normal])\n",
    "#ax[3].scatter(numnodes_rotation, numnodes_normal)\n",
    "#limit = max(max(numnodes_rotation), max(numnodes_normal))\n",
    "#ax[3].plot([0,limit], [0, limit])\n",
    "plt.show()"
   ]
  },
  {
   "cell_type": "code",
   "execution_count": null,
   "id": "03cfe9ad",
   "metadata": {
    "scrolled": true
   },
   "outputs": [],
   "source": [
    "np.count_nonzero(rf_rot.predict(X_test) == y_test) / len(y_test)"
   ]
  },
  {
   "cell_type": "code",
   "execution_count": null,
   "id": "985cea1b",
   "metadata": {},
   "outputs": [],
   "source": [
    "np.count_nonzero(rf_normal.predict(X_test) == y_test) / len(y_test)"
   ]
  },
  {
   "cell_type": "code",
   "execution_count": null,
   "id": "66c01754",
   "metadata": {},
   "outputs": [],
   "source": [
    "print(np.mean(depths_rotation) / np.mean(depths_normal))\n",
    "print(np.mean(numnodes_rotation) / np.mean(numnodes_normal))"
   ]
  },
  {
   "cell_type": "code",
   "execution_count": null,
   "id": "a57a8427",
   "metadata": {},
   "outputs": [],
   "source": [
    "print(np.sum(numnodes_rotation))\n",
    "print(np.sum(numnodes_normal))\n"
   ]
  },
  {
   "cell_type": "code",
   "execution_count": null,
   "id": "e9569f34",
   "metadata": {},
   "outputs": [],
   "source": [
    "import pickle \n",
    "trees = [rf_rot, rf_normal]\n",
    "names = [\"rotation\", \"normal\"]\n",
    "for obj, name in zip(trees, names):\n",
    "    try:\n",
    "        filehandler = open(name, 'wb')\n",
    "        pickle.dump(obj, filehandler)\n",
    "        filehandler.close()\n",
    "    except:\n",
    "        print(\"ERRROR\")"
   ]
  },
  {
   "cell_type": "code",
   "execution_count": null,
   "id": "243ec77c",
   "metadata": {},
   "outputs": [],
   "source": []
  }
 ],
 "metadata": {
  "kernelspec": {
   "display_name": "Python 3",
   "language": "python",
   "name": "python3"
  },
  "language_info": {
   "codemirror_mode": {
    "name": "ipython",
    "version": 3
   },
   "file_extension": ".py",
   "mimetype": "text/x-python",
   "name": "python",
   "nbconvert_exporter": "python",
   "pygments_lexer": "ipython3",
   "version": "3.7.11"
  }
 },
 "nbformat": 4,
 "nbformat_minor": 5
}
