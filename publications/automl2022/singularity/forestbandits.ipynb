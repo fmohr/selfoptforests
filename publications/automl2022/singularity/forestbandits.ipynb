{
 "cells": [
  {
   "cell_type": "code",
   "execution_count": 10,
   "id": "0bcd81fe",
   "metadata": {},
   "outputs": [],
   "source": [
    "from evalutils import *\n",
    "from rotationforest import *\n",
    "import sklearn.model_selection\n",
    "import matplotlib.pyplot as plt\n",
    "from tqdm.notebook import tqdm"
   ]
  },
  {
   "cell_type": "code",
   "execution_count": 2,
   "id": "419c5cc7",
   "metadata": {},
   "outputs": [],
   "source": [
    "seed = 0"
   ]
  },
  {
   "cell_type": "code",
   "execution_count": 3,
   "id": "302cbb90",
   "metadata": {},
   "outputs": [
    {
     "name": "stdout",
     "output_type": "stream",
     "text": [
      "Read in data frame. Size is 150 x 5.\n",
      "Shape of the data after expansion: (150, 4)\n"
     ]
    }
   ],
   "source": [
    "X, y = get_dataset(61)\n",
    "X_train, X_test, y_train, y_test = sklearn.model_selection.train_test_split(X, y, random_state = np.random.RandomState(seed))"
   ]
  },
  {
   "cell_type": "code",
   "execution_count": 4,
   "id": "7857b513",
   "metadata": {},
   "outputs": [],
   "source": [
    "rf1 = RandomForest(n_trees = 0, enable_lda_projections = False, enable_pca_projections = False, light_weight_split_point = True, granularity = 10, p = 100, rs = np.random.RandomState(seed))\n",
    "rf2 = RandomForest(n_trees = 0, enforce_projections = True, enable_lda_projections = True, enable_pca_projections = False, lda_on_canonical_projection = True, light_weight_split_point = True, granularity = 10, p = 100, rs = np.random.RandomState(seed))\n",
    "rf3 = RandomForest(n_trees = 0, enforce_projections = True, enable_lda_projections = False, enable_pca_projections = True, light_weight_split_point = True, pca_classes = 0,  granularity = 10, p = 100, rs = np.random.RandomState(seed))\n",
    "for rf in [rf1, rf2, rf3]:\n",
    "    rf.setup(X_train, y_train)"
   ]
  },
  {
   "cell_type": "code",
   "execution_count": 5,
   "id": "05e346bf",
   "metadata": {},
   "outputs": [],
   "source": [
    "lcs_valid = []\n",
    "lcs_test = []"
   ]
  },
  {
   "cell_type": "code",
   "execution_count": 6,
   "id": "dac9c5a0",
   "metadata": {},
   "outputs": [],
   "source": [
    "def extend_learning_curves(lcs_valid, lcs_test):\n",
    "    scores_valid = []\n",
    "    scores_test = []\n",
    "    for rf in [rf1, rf2, rf3]:\n",
    "        rf.step()\n",
    "        scores_valid.append(rf.get_oob_error())\n",
    "        scores_test.append(sklearn.metrics.accuracy_score(y_test, rf.predict(X_test)))\n",
    "    lcs_valid.append(scores_valid)\n",
    "    lcs_test.append(scores_test)"
   ]
  },
  {
   "cell_type": "code",
   "execution_count": 7,
   "id": "da48c898",
   "metadata": {
    "scrolled": true
   },
   "outputs": [
    {
     "data": {
      "application/vnd.jupyter.widget-view+json": {
       "model_id": "4fc1077b818e4b7e83a3b6c1fb667dc4",
       "version_major": 2,
       "version_minor": 0
      },
      "text/plain": [
       "  0%|          | 0/10 [00:00<?, ?it/s]"
      ]
     },
     "metadata": {},
     "output_type": "display_data"
    }
   ],
   "source": [
    "for i in tqdm(range(10)):\n",
    "    extend_learning_curves(lcs_valid, lcs_test)"
   ]
  },
  {
   "cell_type": "code",
   "execution_count": 8,
   "id": "d75eaf30",
   "metadata": {},
   "outputs": [
    {
     "data": {
      "image/png": "[encoded data removed]",
      "text/plain": [
       "<Figure size 432x288 with 1 Axes>"
      ]
     },
     "metadata": {
      "needs_background": "light"
     },
     "output_type": "display_data"
    }
   ],
   "source": [
    "fig, ax = plt.subplots()\n",
    "for i, col in enumerate(np.array(lcs_test).T):\n",
    "    ax.plot(col, color=f\"C{i}\")\n",
    "for i, col in enumerate(np.array(lcs_valid).T):\n",
    "    ax.plot(col, color=f\"C{i}\", linestyle=\"--\")\n",
    "plt.show()"
   ]
  },
  {
   "cell_type": "code",
   "execution_count": 9,
   "id": "0b895dee",
   "metadata": {},
   "outputs": [
    {
     "name": "stdout",
     "output_type": "stream",
     "text": [
      "Read in data frame. Size is 1080 x 857.\n",
      "Shape of the data after expansion: (1080, 856)\n"
     ]
    },
    {
     "name": "stderr",
     "output_type": "stream",
     "text": [
      "100%|██████████| 5/5 [00:10<00:00,  2.14s/it]\n",
      " 40%|████      | 2/5 [00:05<00:08,  2.74s/it]"
     ]
    },
    {
     "name": "stdout",
     "output_type": "stream",
     "text": [
      "Observed error in LDA, ignoring this dimension\n",
      "No dataset, falling back to standard.\n",
      "Observed error in LDA, ignoring this dimension\n",
      "No dataset, falling back to standard.\n",
      "Observed error in LDA, ignoring this dimension\n",
      "No dataset, falling back to standard.\n"
     ]
    },
    {
     "name": "stderr",
     "output_type": "stream",
     "text": [
      " 80%|████████  | 4/5 [00:10<00:02,  2.74s/it]"
     ]
    },
    {
     "name": "stdout",
     "output_type": "stream",
     "text": [
      "Observed error in LDA, ignoring this dimension\n",
      "No dataset, falling back to standard.\n",
      "Observed error in LDA, ignoring this dimension\n",
      "No dataset, falling back to standard.\n"
     ]
    },
    {
     "name": "stderr",
     "output_type": "stream",
     "text": [
      "100%|██████████| 5/5 [00:13<00:00,  2.60s/it]\n",
      "  0%|          | 0/5 [00:00<?, ?it/s]"
     ]
    },
    {
     "name": "stdout",
     "output_type": "stream",
     "text": [
      "Warning: empty node!\n"
     ]
    },
    {
     "name": "stderr",
     "output_type": "stream",
     "text": [
      "/home/felix/anaconda3/lib/python3.7/site-packages/sklearn/decomposition/_pca.py:470: RuntimeWarning: invalid value encountered in true_divide\n",
      "  explained_variance_ratio_ = explained_variance_ / total_var\n",
      "/home/felix/anaconda3/lib/python3.7/site-packages/sklearn/decomposition/_pca.py:470: RuntimeWarning: invalid value encountered in true_divide\n",
      "  explained_variance_ratio_ = explained_variance_ / total_var\n",
      "/home/felix/anaconda3/lib/python3.7/site-packages/sklearn/decomposition/_pca.py:470: RuntimeWarning: invalid value encountered in true_divide\n",
      "  explained_variance_ratio_ = explained_variance_ / total_var\n",
      "/home/felix/anaconda3/lib/python3.7/site-packages/sklearn/decomposition/_pca.py:470: RuntimeWarning: invalid value encountered in true_divide\n",
      "  explained_variance_ratio_ = explained_variance_ / total_var\n"
     ]
    },
    {
     "name": "stdout",
     "output_type": "stream",
     "text": [
      "Warning: empty node!\n",
      "Warning: empty node!\n"
     ]
    },
    {
     "name": "stderr",
     "output_type": "stream",
     "text": [
      "/home/felix/anaconda3/lib/python3.7/site-packages/sklearn/decomposition/_pca.py:470: RuntimeWarning: invalid value encountered in true_divide\n",
      "  explained_variance_ratio_ = explained_variance_ / total_var\n",
      "/home/felix/anaconda3/lib/python3.7/site-packages/sklearn/decomposition/_pca.py:470: RuntimeWarning: invalid value encountered in true_divide\n",
      "  explained_variance_ratio_ = explained_variance_ / total_var\n",
      "/home/felix/anaconda3/lib/python3.7/site-packages/sklearn/decomposition/_pca.py:470: RuntimeWarning: invalid value encountered in true_divide\n",
      "  explained_variance_ratio_ = explained_variance_ / total_var\n",
      "/home/felix/anaconda3/lib/python3.7/site-packages/sklearn/decomposition/_pca.py:470: RuntimeWarning: invalid value encountered in true_divide\n",
      "  explained_variance_ratio_ = explained_variance_ / total_var\n",
      "/home/felix/anaconda3/lib/python3.7/site-packages/sklearn/decomposition/_pca.py:470: RuntimeWarning: invalid value encountered in true_divide\n",
      "  explained_variance_ratio_ = explained_variance_ / total_var\n",
      "/home/felix/anaconda3/lib/python3.7/site-packages/sklearn/decomposition/_pca.py:470: RuntimeWarning: invalid value encountered in true_divide\n",
      "  explained_variance_ratio_ = explained_variance_ / total_var\n",
      "/home/felix/anaconda3/lib/python3.7/site-packages/sklearn/decomposition/_pca.py:470: RuntimeWarning: invalid value encountered in true_divide\n",
      "  explained_variance_ratio_ = explained_variance_ / total_var\n",
      "/home/felix/anaconda3/lib/python3.7/site-packages/sklearn/decomposition/_pca.py:470: RuntimeWarning: invalid value encountered in true_divide\n",
      "  explained_variance_ratio_ = explained_variance_ / total_var\n"
     ]
    },
    {
     "name": "stdout",
     "output_type": "stream",
     "text": [
      "Warning: empty node!\n"
     ]
    },
    {
     "name": "stderr",
     "output_type": "stream",
     "text": [
      " 20%|██        | 1/5 [00:08<00:35,  8.84s/it]/home/felix/anaconda3/lib/python3.7/site-packages/sklearn/decomposition/_pca.py:470: RuntimeWarning: invalid value encountered in true_divide\n",
      "  explained_variance_ratio_ = explained_variance_ / total_var\n",
      "/home/felix/anaconda3/lib/python3.7/site-packages/sklearn/decomposition/_pca.py:470: RuntimeWarning: invalid value encountered in true_divide\n",
      "  explained_variance_ratio_ = explained_variance_ / total_var\n",
      "/home/felix/anaconda3/lib/python3.7/site-packages/sklearn/decomposition/_pca.py:470: RuntimeWarning: invalid value encountered in true_divide\n",
      "  explained_variance_ratio_ = explained_variance_ / total_var\n"
     ]
    },
    {
     "name": "stdout",
     "output_type": "stream",
     "text": [
      "Warning: empty node!\n"
     ]
    },
    {
     "name": "stderr",
     "output_type": "stream",
     "text": [
      "/home/felix/anaconda3/lib/python3.7/site-packages/sklearn/decomposition/_pca.py:470: RuntimeWarning: invalid value encountered in true_divide\n",
      "  explained_variance_ratio_ = explained_variance_ / total_var\n"
     ]
    },
    {
     "name": "stdout",
     "output_type": "stream",
     "text": [
      "Warning: empty node!\n"
     ]
    },
    {
     "name": "stderr",
     "output_type": "stream",
     "text": [
      "/home/felix/anaconda3/lib/python3.7/site-packages/sklearn/decomposition/_pca.py:470: RuntimeWarning: invalid value encountered in true_divide\n",
      "  explained_variance_ratio_ = explained_variance_ / total_var\n",
      " 40%|████      | 2/5 [00:19<00:29,  9.91s/it]/home/felix/anaconda3/lib/python3.7/site-packages/sklearn/decomposition/_pca.py:470: RuntimeWarning: invalid value encountered in true_divide\n",
      "  explained_variance_ratio_ = explained_variance_ / total_var\n",
      "/home/felix/anaconda3/lib/python3.7/site-packages/sklearn/decomposition/_pca.py:470: RuntimeWarning: invalid value encountered in true_divide\n",
      "  explained_variance_ratio_ = explained_variance_ / total_var\n",
      "/home/felix/anaconda3/lib/python3.7/site-packages/sklearn/decomposition/_pca.py:470: RuntimeWarning: invalid value encountered in true_divide\n",
      "  explained_variance_ratio_ = explained_variance_ / total_var\n",
      "/home/felix/anaconda3/lib/python3.7/site-packages/sklearn/decomposition/_pca.py:470: RuntimeWarning: invalid value encountered in true_divide\n",
      "  explained_variance_ratio_ = explained_variance_ / total_var\n",
      "/home/felix/anaconda3/lib/python3.7/site-packages/sklearn/decomposition/_pca.py:470: RuntimeWarning: invalid value encountered in true_divide\n",
      "  explained_variance_ratio_ = explained_variance_ / total_var\n",
      "/home/felix/anaconda3/lib/python3.7/site-packages/sklearn/decomposition/_pca.py:470: RuntimeWarning: invalid value encountered in true_divide\n",
      "  explained_variance_ratio_ = explained_variance_ / total_var\n",
      "/home/felix/anaconda3/lib/python3.7/site-packages/sklearn/decomposition/_pca.py:470: RuntimeWarning: invalid value encountered in true_divide\n",
      "  explained_variance_ratio_ = explained_variance_ / total_var\n",
      "/home/felix/anaconda3/lib/python3.7/site-packages/sklearn/decomposition/_pca.py:470: RuntimeWarning: invalid value encountered in true_divide\n",
      "  explained_variance_ratio_ = explained_variance_ / total_var\n",
      "/home/felix/anaconda3/lib/python3.7/site-packages/sklearn/decomposition/_pca.py:470: RuntimeWarning: invalid value encountered in true_divide\n",
      "  explained_variance_ratio_ = explained_variance_ / total_var\n",
      "/home/felix/anaconda3/lib/python3.7/site-packages/sklearn/decomposition/_pca.py:470: RuntimeWarning: invalid value encountered in true_divide\n",
      "  explained_variance_ratio_ = explained_variance_ / total_var\n",
      "/home/felix/anaconda3/lib/python3.7/site-packages/sklearn/decomposition/_pca.py:470: RuntimeWarning: invalid value encountered in true_divide\n",
      "  explained_variance_ratio_ = explained_variance_ / total_var\n",
      "/home/felix/anaconda3/lib/python3.7/site-packages/sklearn/decomposition/_pca.py:470: RuntimeWarning: invalid value encountered in true_divide\n",
      "  explained_variance_ratio_ = explained_variance_ / total_var\n",
      " 60%|██████    | 3/5 [00:35<00:25, 12.68s/it]/home/felix/anaconda3/lib/python3.7/site-packages/sklearn/decomposition/_pca.py:470: RuntimeWarning: invalid value encountered in true_divide\n",
      "  explained_variance_ratio_ = explained_variance_ / total_var\n",
      "/home/felix/anaconda3/lib/python3.7/site-packages/sklearn/decomposition/_pca.py:470: RuntimeWarning: invalid value encountered in true_divide\n",
      "  explained_variance_ratio_ = explained_variance_ / total_var\n",
      "/home/felix/anaconda3/lib/python3.7/site-packages/sklearn/decomposition/_pca.py:470: RuntimeWarning: invalid value encountered in true_divide\n",
      "  explained_variance_ratio_ = explained_variance_ / total_var\n",
      "/home/felix/anaconda3/lib/python3.7/site-packages/sklearn/decomposition/_pca.py:470: RuntimeWarning: invalid value encountered in true_divide\n",
      "  explained_variance_ratio_ = explained_variance_ / total_var\n",
      "/home/felix/anaconda3/lib/python3.7/site-packages/sklearn/decomposition/_pca.py:470: RuntimeWarning: invalid value encountered in true_divide\n",
      "  explained_variance_ratio_ = explained_variance_ / total_var\n",
      "/home/felix/anaconda3/lib/python3.7/site-packages/sklearn/decomposition/_pca.py:470: RuntimeWarning: invalid value encountered in true_divide\n",
      "  explained_variance_ratio_ = explained_variance_ / total_var\n",
      "/home/felix/anaconda3/lib/python3.7/site-packages/sklearn/decomposition/_pca.py:470: RuntimeWarning: invalid value encountered in true_divide\n",
      "  explained_variance_ratio_ = explained_variance_ / total_var\n"
     ]
    },
    {
     "name": "stdout",
     "output_type": "stream",
     "text": [
      "Warning: empty node!\n"
     ]
    },
    {
     "name": "stderr",
     "output_type": "stream",
     "text": [
      "/home/felix/anaconda3/lib/python3.7/site-packages/sklearn/decomposition/_pca.py:470: RuntimeWarning: invalid value encountered in true_divide\n",
      "  explained_variance_ratio_ = explained_variance_ / total_var\n",
      "/home/felix/anaconda3/lib/python3.7/site-packages/sklearn/decomposition/_pca.py:470: RuntimeWarning: invalid value encountered in true_divide\n",
      "  explained_variance_ratio_ = explained_variance_ / total_var\n",
      "/home/felix/anaconda3/lib/python3.7/site-packages/sklearn/decomposition/_pca.py:470: RuntimeWarning: invalid value encountered in true_divide\n",
      "  explained_variance_ratio_ = explained_variance_ / total_var\n",
      " 80%|████████  | 4/5 [00:49<00:13, 13.09s/it]/home/felix/anaconda3/lib/python3.7/site-packages/sklearn/decomposition/_pca.py:470: RuntimeWarning: invalid value encountered in true_divide\n",
      "  explained_variance_ratio_ = explained_variance_ / total_var\n",
      "/home/felix/anaconda3/lib/python3.7/site-packages/sklearn/decomposition/_pca.py:470: RuntimeWarning: invalid value encountered in true_divide\n",
      "  explained_variance_ratio_ = explained_variance_ / total_var\n",
      "/home/felix/anaconda3/lib/python3.7/site-packages/sklearn/decomposition/_pca.py:470: RuntimeWarning: invalid value encountered in true_divide\n",
      "  explained_variance_ratio_ = explained_variance_ / total_var\n",
      "/home/felix/anaconda3/lib/python3.7/site-packages/sklearn/decomposition/_pca.py:470: RuntimeWarning: invalid value encountered in true_divide\n",
      "  explained_variance_ratio_ = explained_variance_ / total_var\n"
     ]
    },
    {
     "name": "stdout",
     "output_type": "stream",
     "text": [
      "Warning: empty node!\n"
     ]
    },
    {
     "name": "stderr",
     "output_type": "stream",
     "text": [
      "100%|██████████| 5/5 [01:02<00:00, 12.53s/it]\n",
      "  0%|          | 0/5 [00:00<?, ?it/s]\n"
     ]
    },
    {
     "ename": "NameError",
     "evalue": "name 'get_all_combos_for_sum' is not defined",
     "output_type": "error",
     "traceback": [
      "\u001b[0;31m---------------------------------------------------------------------------\u001b[0m",
      "\u001b[0;31mNameError\u001b[0m                                 Traceback (most recent call last)",
      "\u001b[0;32m<ipython-input-9-22e1aa5a1176>\u001b[0m in \u001b[0;36m<module>\u001b[0;34m\u001b[0m\n\u001b[0;32m----> 1\u001b[0;31m \u001b[0mget_results_of_mixed_trees\u001b[0m\u001b[0;34m(\u001b[0m\u001b[0;36m1468\u001b[0m\u001b[0;34m,\u001b[0m \u001b[0;36m1\u001b[0m\u001b[0;34m,\u001b[0m \u001b[0;36m5\u001b[0m\u001b[0;34m)\u001b[0m\u001b[0;34m\u001b[0m\u001b[0;34m\u001b[0m\u001b[0m\n\u001b[0m",
      "\u001b[0;32m~/Dropbox/Uni/Sabana/papers/pcaforests/publications/neurips2022/singularity/evalutils.py\u001b[0m in \u001b[0;36mget_results_of_mixed_trees\u001b[0;34m(openmlid, seed, max_num_trees)\u001b[0m\n\u001b[1;32m    162\u001b[0m     \u001b[0;32mfor\u001b[0m \u001b[0mn_trees\u001b[0m \u001b[0;32min\u001b[0m \u001b[0mtqdm\u001b[0m\u001b[0;34m(\u001b[0m\u001b[0mrange\u001b[0m\u001b[0;34m(\u001b[0m\u001b[0;36m1\u001b[0m\u001b[0;34m,\u001b[0m \u001b[0mmax_num_trees\u001b[0m \u001b[0;34m+\u001b[0m \u001b[0;36m1\u001b[0m\u001b[0;34m)\u001b[0m\u001b[0;34m)\u001b[0m\u001b[0;34m:\u001b[0m\u001b[0;34m\u001b[0m\u001b[0;34m\u001b[0m\u001b[0m\n\u001b[1;32m    163\u001b[0m         \u001b[0mscores_for_size\u001b[0m \u001b[0;34m=\u001b[0m \u001b[0;34m[\u001b[0m\u001b[0;34m]\u001b[0m\u001b[0;34m\u001b[0m\u001b[0;34m\u001b[0m\u001b[0m\n\u001b[0;32m--> 164\u001b[0;31m         \u001b[0mpoints\u001b[0m \u001b[0;34m=\u001b[0m \u001b[0mget_all_combos_for_sum\u001b[0m\u001b[0;34m(\u001b[0m\u001b[0mn_trees\u001b[0m\u001b[0;34m)\u001b[0m\u001b[0;34m\u001b[0m\u001b[0;34m\u001b[0m\u001b[0m\n\u001b[0m\u001b[1;32m    165\u001b[0m         \u001b[0;32mfor\u001b[0m \u001b[0mc\u001b[0m \u001b[0;32min\u001b[0m \u001b[0mpoints\u001b[0m\u001b[0;34m:\u001b[0m\u001b[0;34m\u001b[0m\u001b[0;34m\u001b[0m\u001b[0m\n\u001b[1;32m    166\u001b[0m             \u001b[0mscores_for_size\u001b[0m\u001b[0;34m.\u001b[0m\u001b[0mappend\u001b[0m\u001b[0;34m(\u001b[0m\u001b[0mget_performance_of_ensemble\u001b[0m\u001b[0;34m(\u001b[0m\u001b[0mvotes\u001b[0m\u001b[0;34m,\u001b[0m \u001b[0mc\u001b[0m\u001b[0;34m,\u001b[0m \u001b[0mrf1\u001b[0m\u001b[0;34m.\u001b[0m\u001b[0mlabels\u001b[0m\u001b[0;34m,\u001b[0m \u001b[0my_train\u001b[0m\u001b[0;34m,\u001b[0m \u001b[0my_test\u001b[0m\u001b[0;34m)\u001b[0m\u001b[0;34m)\u001b[0m\u001b[0;34m\u001b[0m\u001b[0;34m\u001b[0m\u001b[0m\n",
      "\u001b[0;31mNameError\u001b[0m: name 'get_all_combos_for_sum' is not defined"
     ]
    }
   ],
   "source": [
    "get_results_of_mixed_trees(1468, 1, 5)"
   ]
  },
  {
   "cell_type": "code",
   "execution_count": null,
   "id": "1f15bfee",
   "metadata": {
    "scrolled": true
   },
   "outputs": [],
   "source": [
    "def get_results_of_mixed_trees(openmlid, seed):\n",
    "    \n",
    "    # load and split data\n",
    "    X, y = get_dataset(openmlid)\n",
    "    X_train, X_test, y_train, y_test = sklearn.model_selection.train_test_split(X, y, random_state = np.random.RandomState(seed))\n",
    "\n",
    "    # create random forests\n",
    "    rf1 = RandomForest(n_trees = 0, enable_lda_projections = False, enable_pca_projections = False, light_weight_split_point = True, granularity = 10, rs = np.random.RandomState(seed))\n",
    "    rf2 = RandomForest(n_trees = 0, enforce_projections = True, enable_lda_projections = True, enable_pca_projections = False, lda_on_canonical_projection = True, light_weight_split_point = False, rs = np.random.RandomState(seed))\n",
    "    rf3 = RandomForest(n_trees = 0, enforce_projections = True, enable_lda_projections = False, enable_pca_projections = True, pca_classes = 0, light_weight_split_point = False, rs = np.random.RandomState(seed))\n",
    "    for rf in [rf1, rf2, rf3]:\n",
    "        rf.setup(X_train, y_train)\n",
    "        \n",
    "    # create scores\n",
    "    scores = {}\n",
    "    \n",
    "    # iterate over number of trees\n",
    "    for n_trees in range(1, 11):\n",
    "        for rf in [rf1, rf2, rf3]:\n",
    "            rf.step()\n",
    "        scores[n_trees] = get_scores_of_trained_trees([rf1, rf2, rf3], n_trees, X_test, y_test)\n",
    "    return scores\n",
    "    \n",
    "\n",
    "def get_mixted_rf(rfs, nums):\n",
    "    rf = RandomForest()\n",
    "    rf.setup(rfs[0].X, rfs[0].y)\n",
    "    for rf_orig, num in zip(rfs, nums):\n",
    "        rf.indices_per_tree.extend(rf_orig.indices_per_tree[:num])\n",
    "        rf.trees.extend(rf_orig.trees[:num])\n",
    "    return rf\n",
    "\n",
    "def get_all_combos_for_sum(s):\n",
    "    combos = []\n",
    "    for c1 in range(s + 1):\n",
    "        for c2 in range(s + 1 - c1):\n",
    "            c3 = s - c1 - c2\n",
    "            combos.append((c1, c2, c3))\n",
    "    return combos\n",
    "    \n",
    "get_results_of_mixed_trees(61, 1)"
   ]
  },
  {
   "cell_type": "code",
   "execution_count": 12,
   "id": "b4e638f1",
   "metadata": {},
   "outputs": [],
   "source": [
    "import json\n",
    "import pandas as pd"
   ]
  },
  {
   "cell_type": "code",
   "execution_count": null,
   "id": "d43954b7",
   "metadata": {},
   "outputs": [],
   "source": []
  },
  {
   "cell_type": "code",
   "execution_count": null,
   "id": "d52b2a6a",
   "metadata": {},
   "outputs": [],
   "source": [
    "from matplotlib import cm"
   ]
  },
  {
   "cell_type": "code",
   "execution_count": null,
   "id": "c8cb9907",
   "metadata": {
    "scrolled": false
   },
   "outputs": [],
   "source": [
    "%matplotlib notebook\n",
    "from matplotlib import cm\n",
    "fig = plt.figure()\n",
    "ax = fig.add_subplot(projection='3d')\n",
    "p = np.array(points)\n",
    "scores_normalized = np.array(scores)\n",
    "scores_normalized = (scores_normalized - min(scores_normalized)) / (max(scores_normalized) - min (scores_normalized))\n",
    "ax.scatter(p[:,0], p[:,1], p[:,2], color=cm.get_cmap(\"Reds\")(scores_normalized), cmap=\"Reds\")\n",
    "\n",
    "ax.set_xlabel(\"num standard trees\")\n",
    "ax.set_ylabel(\"num lda trees\")\n",
    "ax.set_zlabel(\"num pca trees\")\n",
    "\n",
    "plt.show()\n"
   ]
  },
  {
   "cell_type": "code",
   "execution_count": null,
   "id": "df588b98",
   "metadata": {},
   "outputs": [],
   "source": [
    "max(scores)"
   ]
  },
  {
   "cell_type": "code",
   "execution_count": null,
   "id": "e95788e8",
   "metadata": {},
   "outputs": [],
   "source": [
    "rf1.get_oob_error()"
   ]
  },
  {
   "cell_type": "code",
   "execution_count": null,
   "id": "72f01c9b",
   "metadata": {},
   "outputs": [],
   "source": []
  }
 ],
 "metadata": {
  "kernelspec": {
   "display_name": "Python 3",
   "language": "python",
   "name": "python3"
  },
  "language_info": {
   "codemirror_mode": {
    "name": "ipython",
    "version": 3
   },
   "file_extension": ".py",
   "mimetype": "text/x-python",
   "name": "python",
   "nbconvert_exporter": "python",
   "pygments_lexer": "ipython3",
   "version": "3.7.11"
  }
 },
 "nbformat": 4,
 "nbformat_minor": 5
}
