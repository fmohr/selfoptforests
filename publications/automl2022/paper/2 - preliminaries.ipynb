{
 "cells": [
  {
   "cell_type": "code",
   "execution_count": null,
   "id": "a10ce9b5",
   "metadata": {},
   "outputs": [],
   "source": [
    "from sklearn.ensemble import RandomForestClassifier\n",
    "import sklearn.model_selection\n",
    "from evalutils import *\n",
    "import numpy as np\n",
    "from tqdm.notebook import tqdm\n",
    "import matplotlib.pyplot as plt\n",
    "from rotationforest import *"
   ]
  },
  {
   "cell_type": "code",
   "execution_count": null,
   "id": "699a8cf7",
   "metadata": {},
   "outputs": [],
   "source": [
    "oob_accs = []\n",
    "test_accs = []\n",
    "for seed in range(5):\n",
    "    oob_accs_on_seed = []\n",
    "    test_accs_on_seed = []\n",
    "    for n_estimators in tqdm(range(20, 1021, 100)):\n",
    "        rf = RandomForestClassifier(n_estimators = n_estimators, oob_score = True)\n",
    "        X_train, X_test, y_train, y_test = sklearn.model_selection.train_test_split(X, y, random_state=np.random.RandomState(seed))\n",
    "        rf.fit(X_train, y_train)\n",
    "        acc = sklearn.metrics.accuracy_score(y_test, rf.predict(X_test))\n",
    "        oob_accs_on_seed.append(rf.oob_score_)\n",
    "        test_accs_on_seed.append(acc)\n",
    "    oob_accs.append(oob_accs_on_seed)\n",
    "    test_accs.append(test_accs_on_seed)\n",
    "        #sklearn.model_selection.cross_validate(rf, X, y)[\"test_score\"]"
   ]
  },
  {
   "cell_type": "code",
   "execution_count": null,
   "id": "bc8bd3a8",
   "metadata": {},
   "outputs": [],
   "source": [
    "oob_accs = np.array(oob_accs)\n",
    "test_accs = np.array(test_accs)"
   ]
  },
  {
   "cell_type": "code",
   "execution_count": null,
   "id": "4d46da40",
   "metadata": {},
   "outputs": [],
   "source": [
    "fig, ax = plt.subplots()\n",
    "for i, (oob_curve, test_curve) in enumerate(zip(oob_accs, test_accs)):\n",
    "    ax.plot(oob_curve, color=f\"C{i}\")\n",
    "    ax.plot(test_curve, color=f\"C{i}\", linestyle=\"--\")"
   ]
  },
  {
   "cell_type": "markdown",
   "id": "f1a5d77a",
   "metadata": {},
   "source": [
    "# Models"
   ]
  },
  {
   "cell_type": "code",
   "execution_count": null,
   "id": "c0124ae4",
   "metadata": {},
   "outputs": [],
   "source": [
    "def get_ipl(sizes, scores):\n",
    "    def ipl(beta):\n",
    "        a, b, c = tuple(beta.astype(float))\n",
    "        pl = lambda x: a + b * x **(-c)\n",
    "        penalty = []\n",
    "        for i, size in enumerate(sizes):\n",
    "            penalty.append((pl(size) - scores[i])**2)\n",
    "        return np.array(penalty)\n",
    "\n",
    "    a, b, c = tuple(sp.optimize.least_squares(ipl, np.array([1,1,1]), method=\"lm\").x)\n",
    "    return a, b, c, lambda x: a + b * x **(-c)\n",
    "\n",
    "def get_vp(sizes, scores):\n",
    "    def vp(beta):\n",
    "        a, b, c = tuple(beta.astype(float))\n",
    "        fun = lambda x: np.exp(a + b/x + c * np.log(x))\n",
    "        penalty = []\n",
    "        for i, size in enumerate(sizes):\n",
    "            penalty.append((fun(size) - scores[i])**2)\n",
    "        return np.array(penalty)\n",
    "\n",
    "    a, b, c = tuple(sp.optimize.least_squares(vp, np.array([1,1,1]), method=\"lm\").x)\n",
    "    return a, b, c, lambda x: np.exp(a + b/x + c * np.log(x))\n",
    "\n",
    "\n",
    "def get_mmf(sizes, scores):\n",
    "    def mmf(beta):\n",
    "        a, b, c, d = tuple(beta.astype(float))\n",
    "        fun = lambda x: (a * b + c * x ** d)/(b + x ** d)\n",
    "        penalty = []\n",
    "        for i, size in enumerate(sizes):\n",
    "            penalty.append((fun(size) - scores[i])**2)\n",
    "        return np.array(penalty)\n",
    "\n",
    "    a, b, c, d = tuple(sp.optimize.least_squares(mmf, np.array([1,1,1,1]), method=\"lm\").x)\n",
    "    return a, b, c, d, lambda x: (a * b + c * x ** d)/(b + x ** d)\n",
    "\n",
    "\n",
    "def get_logpower(sizes, scores):\n",
    "    def logpower(beta):\n",
    "        a, b, c = tuple(beta.astype(float))\n",
    "        fun = lambda x: a / (1 + (x / np.exp(b))**c)\n",
    "        penalty = []\n",
    "        for i, size in enumerate(sizes):\n",
    "            penalty.append((fun(size) - scores[i])**2)\n",
    "        return np.array(penalty)\n",
    "\n",
    "    a, b, c = tuple(sp.optimize.least_squares(logpower, np.array([1,1,1]), method=\"lm\").x)\n",
    "    return a, b, c, lambda x: a / (1 + (x / np.exp(b))**c)"
   ]
  },
  {
   "cell_type": "code",
   "execution_count": null,
   "id": "ab5bb7bc",
   "metadata": {},
   "outputs": [],
   "source": [
    "for openmlid, df_gaps_dataset in df_lcgaps.groupby(\"openmlid\"):\n",
    "    \n",
    "    fig, ax = plt.subplots(1, 3, figsize=(15, 4))\n",
    "    for j, (algo, df_algo) in enumerate(df_gaps_dataset.groupby(\"algo\")):\n",
    "        for est in [\"ipl\", \"vp\", \"mmf\", \"log power\"]:\n",
    "            df_act = df_algo[[\"size\", \"gap \" + est]].groupby(\"size\").mean()\n",
    "            ax[j].plot(df_act.index, df_act[\"gap \" + est], label=est)\n",
    "            \n",
    "        df_act = df_algo[[\"size\", \"gap mmf\", \"gap log power\"]].groupby(\"size\").mean()\n",
    "        ax[j].plot(df_act.index, 0.7 * df_act[\"gap mmf\"] + 0.3 * df_act[\"gap log power\"], label=\"mix\")\n",
    "        #print(df_algo)\n",
    "        ax[j].axhline(0, linestyle=\"--\", color=\"black\", linewidth=1)\n",
    "        ax[j].legend()\n",
    "        ax[j].set_title(f\"{algo} on {openmlid}\")\n",
    "        ax[j].set_ylim([-0.1, 0.1])\n",
    "    plt.show()"
   ]
  },
  {
   "cell_type": "code",
   "execution_count": null,
   "id": "4e7c5314",
   "metadata": {},
   "outputs": [],
   "source": [
    "fig, ax = plt.subplots()\n",
    "for i in range(len(gaps)):\n",
    "    ax.plot(np.mean(gaps[i], axis=0))\n",
    "ax.set_xlim([5,100])\n",
    "ax.set_ylim([-0.1, 0.1])"
   ]
  }
 ],
 "metadata": {
  "kernelspec": {
   "display_name": "Python 3",
   "language": "python",
   "name": "python3"
  },
  "language_info": {
   "codemirror_mode": {
    "name": "ipython",
    "version": 3
   },
   "file_extension": ".py",
   "mimetype": "text/x-python",
   "name": "python",
   "nbconvert_exporter": "python",
   "pygments_lexer": "ipython3",
   "version": "3.7.11"
  }
 },
 "nbformat": 4,
 "nbformat_minor": 5
}
